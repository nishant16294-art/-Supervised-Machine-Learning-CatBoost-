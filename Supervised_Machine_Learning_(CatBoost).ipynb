{
  "nbformat": 4,
  "nbformat_minor": 0,
  "metadata": {
    "colab": {
      "provenance": [],
      "authorship_tag": "ABX9TyNTJEGyOzVmVocgyTwzpNUh",
      "include_colab_link": true
    },
    "kernelspec": {
      "name": "python3",
      "display_name": "Python 3"
    },
    "language_info": {
      "name": "python"
    }
  },
  "cells": [
    {
      "cell_type": "markdown",
      "metadata": {
        "id": "view-in-github",
        "colab_type": "text"
      },
      "source": [
        "<a href=\"https://colab.research.google.com/github/nishant16294-art/-Supervised-Machine-Learning-CatBoost-/blob/main/Supervised_Machine_Learning_(CatBoost).ipynb\" target=\"_parent\"><img src=\"https://colab.research.google.com/assets/colab-badge.svg\" alt=\"Open In Colab\"/></a>"
      ]
    },
    {
      "cell_type": "markdown",
      "source": [
        "**Project Name:** Rented Bike Count Prediction\n",
        "\n",
        "\n",
        "**Project Type:** Supervised Machine Learning (CatBoost)\n",
        "\n",
        "\n",
        "\n",
        "**Project Statement**\n",
        "\n",
        "\n",
        "The goal of this project is to predict the number of bikes rented in a given hour based on various features such as temperature, humidity, wind speed, time of day, and more.\n",
        "\n",
        "Accurate prediction can help bike-sharing companies plan inventory, optimize operations, and meet demand effectively.**"
      ],
      "metadata": {
        "id": "BsIMS_wtppEv"
      }
    },
    {
      "cell_type": "markdown",
      "source": [
        "\n",
        "**Let's Begin !**"
      ],
      "metadata": {
        "id": "cKumYD0xqvWN"
      }
    },
    {
      "cell_type": "code",
      "source": [
        "# import libraries\n",
        "\n",
        "import pandas as pd\n",
        "import numpy as np\n",
        "import matplotlib.pyplot as plt\n",
        "import seaborn as sns\n"
      ],
      "metadata": {
        "id": "C7OupEDUqalt"
      },
      "execution_count": null,
      "outputs": []
    },
    {
      "cell_type": "markdown",
      "source": [
        "**# Data Set Loading**"
      ],
      "metadata": {
        "id": "N3bAh3NtrH6T"
      }
    },
    {
      "cell_type": "code",
      "source": [
        "from google.colab import drive\n",
        "drive.mount('/content/drive')\n",
        "file_path = ('/content/drive/MyDrive/almabetter_project/SeoulBikeData.csv')\n",
        "df = pd.read_csv(file_path, encoding='latin1')"
      ],
      "metadata": {
        "colab": {
          "base_uri": "https://localhost:8080/"
        },
        "id": "KOrB6aTYrMXE",
        "outputId": "78264d0d-315a-40f4-c14b-19f0fd4dbc74"
      },
      "execution_count": null,
      "outputs": [
        {
          "output_type": "stream",
          "name": "stdout",
          "text": [
            "Drive already mounted at /content/drive; to attempt to forcibly remount, call drive.mount(\"/content/drive\", force_remount=True).\n"
          ]
        }
      ]
    },
    {
      "cell_type": "code",
      "source": [
        "#Dataset First view\n",
        "print(df.head())\n",
        "\n",
        "\n",
        "print('\\n\\n\\n')\n",
        "# Dataset Rows & Columns count\n",
        "print(df.shape)\n",
        "\n",
        "\n",
        "print('\\n\\n')\n",
        "# Dataset Info\n",
        "print(df.info())\n",
        "\n",
        "print('\\n\\n')\n",
        "# # Dataset Duplicate Value Count\n",
        "print(\"All duplicate value count:\",df.duplicated().sum())\n",
        "\n",
        "\n",
        "print('\\n\\n')\n",
        "# Missing Values/Null Values Count\n",
        "print(\" missing value:\")\n",
        "print('\\n')\n",
        "print(df.isnull().sum())\n",
        "\n"
      ],
      "metadata": {
        "colab": {
          "base_uri": "https://localhost:8080/"
        },
        "id": "2cgLiOmsrdcn",
        "outputId": "216bf8c2-bb1c-4fe3-b5af-044a910c8c25"
      },
      "execution_count": null,
      "outputs": [
        {
          "output_type": "stream",
          "name": "stdout",
          "text": [
            "         Date  Rented Bike Count  Hour  Temperature(°C)  Humidity(%)  \\\n",
            "0  01-12-2017                254     0             -5.2           37   \n",
            "1  01-12-2017                204     1             -5.5           38   \n",
            "2  01-12-2017                173     2             -6.0           39   \n",
            "3  01-12-2017                107     3             -6.2           40   \n",
            "4  01-12-2017                 78     4             -6.0           36   \n",
            "\n",
            "   Wind speed (m/s)  Visibility (10m)  Dew point temperature(°C)  \\\n",
            "0               2.2              2000                      -17.6   \n",
            "1               0.8              2000                      -17.6   \n",
            "2               1.0              2000                      -17.7   \n",
            "3               0.9              2000                      -17.6   \n",
            "4               2.3              2000                      -18.6   \n",
            "\n",
            "   Solar Radiation (MJ/m2)  Rainfall(mm)  Snowfall (cm) Seasons     Holiday  \\\n",
            "0                      0.0           0.0            0.0  Winter  No Holiday   \n",
            "1                      0.0           0.0            0.0  Winter  No Holiday   \n",
            "2                      0.0           0.0            0.0  Winter  No Holiday   \n",
            "3                      0.0           0.0            0.0  Winter  No Holiday   \n",
            "4                      0.0           0.0            0.0  Winter  No Holiday   \n",
            "\n",
            "  Functioning Day  \n",
            "0             Yes  \n",
            "1             Yes  \n",
            "2             Yes  \n",
            "3             Yes  \n",
            "4             Yes  \n",
            "\n",
            "\n",
            "\n",
            "\n",
            "(8760, 14)\n",
            "\n",
            "\n",
            "\n",
            "<class 'pandas.core.frame.DataFrame'>\n",
            "RangeIndex: 8760 entries, 0 to 8759\n",
            "Data columns (total 14 columns):\n",
            " #   Column                     Non-Null Count  Dtype  \n",
            "---  ------                     --------------  -----  \n",
            " 0   Date                       8760 non-null   object \n",
            " 1   Rented Bike Count          8760 non-null   int64  \n",
            " 2   Hour                       8760 non-null   int64  \n",
            " 3   Temperature(°C)            8760 non-null   float64\n",
            " 4   Humidity(%)                8760 non-null   int64  \n",
            " 5   Wind speed (m/s)           8760 non-null   float64\n",
            " 6   Visibility (10m)           8760 non-null   int64  \n",
            " 7   Dew point temperature(°C)  8760 non-null   float64\n",
            " 8   Solar Radiation (MJ/m2)    8760 non-null   float64\n",
            " 9   Rainfall(mm)               8760 non-null   float64\n",
            " 10  Snowfall (cm)              8760 non-null   float64\n",
            " 11  Seasons                    8760 non-null   object \n",
            " 12  Holiday                    8760 non-null   object \n",
            " 13  Functioning Day            8760 non-null   object \n",
            "dtypes: float64(6), int64(4), object(4)\n",
            "memory usage: 958.3+ KB\n",
            "None\n",
            "\n",
            "\n",
            "\n",
            "All duplicate value count: 0\n",
            "\n",
            "\n",
            "\n",
            " missing value:\n",
            "\n",
            "\n",
            "Date                         0\n",
            "Rented Bike Count            0\n",
            "Hour                         0\n",
            "Temperature(°C)              0\n",
            "Humidity(%)                  0\n",
            "Wind speed (m/s)             0\n",
            "Visibility (10m)             0\n",
            "Dew point temperature(°C)    0\n",
            "Solar Radiation (MJ/m2)      0\n",
            "Rainfall(mm)                 0\n",
            "Snowfall (cm)                0\n",
            "Seasons                      0\n",
            "Holiday                      0\n",
            "Functioning Day              0\n",
            "dtype: int64\n"
          ]
        }
      ]
    },
    {
      "cell_type": "markdown",
      "source": [
        "**Step 3**:  Feature Engineering"
      ],
      "metadata": {
        "id": "C6_Axuvoz3SH"
      }
    },
    {
      "cell_type": "code",
      "source": [
        "# Step 1: Convert 'Date' to datetime format\n",
        "df['Date'] = pd.to_datetime(df['Date'], dayfirst=True)\n",
        "\n",
        "# Step 2: Create new features from 'Date'\n",
        "df['Month'] = df['Date'].dt.month\n",
        "df['Day'] = df['Date'].dt.day\n",
        "df['Weekday'] = df['Date'].dt.weekday  # Monday=0, Sunday=6\n",
        "df['Is_Weekend'] = df['Weekday'].apply(lambda x: 1 if x >= 5 else 0)\n",
        "\n",
        "# Step 3: Optional - Create time-of-day bins (peak/off-peak)\n",
        "def hour_group(hour):\n",
        "    if 6 <= hour < 10:\n",
        "        return 'Morning_Peak'\n",
        "    elif 17 <= hour < 21:\n",
        "        return 'Evening_Peak'\n",
        "    elif 10 <= hour < 17:\n",
        "        return 'Day_Time'\n",
        "    else:\n",
        "        return 'Night'\n",
        "\n",
        "df['Hour_Group'] = df['Hour'].apply(hour_group)\n",
        "\n",
        "# Step 4: Create flags for rain/snow\n",
        "df['Has_Rain'] = df['Rainfall(mm)'].apply(lambda x: 1 if x > 0 else 0)\n",
        "df['Has_Snow'] = df['Snowfall (cm)'].apply(lambda x: 1 if x > 0 else 0)\n",
        "\n",
        "# Preview the modified DataFrame\n",
        "print(df.head())\n"
      ],
      "metadata": {
        "colab": {
          "base_uri": "https://localhost:8080/"
        },
        "id": "cocPl-qstiGn",
        "outputId": "7e92c014-135a-476f-96bd-0e4f2ccb4d55"
      },
      "execution_count": null,
      "outputs": [
        {
          "output_type": "stream",
          "name": "stdout",
          "text": [
            "        Date  Rented Bike Count  Hour  Temperature(°C)  Humidity(%)  \\\n",
            "0 2017-12-01                254     0             -5.2           37   \n",
            "1 2017-12-01                204     1             -5.5           38   \n",
            "2 2017-12-01                173     2             -6.0           39   \n",
            "3 2017-12-01                107     3             -6.2           40   \n",
            "4 2017-12-01                 78     4             -6.0           36   \n",
            "\n",
            "   Wind speed (m/s)  Visibility (10m)  Dew point temperature(°C)  \\\n",
            "0               2.2              2000                      -17.6   \n",
            "1               0.8              2000                      -17.6   \n",
            "2               1.0              2000                      -17.7   \n",
            "3               0.9              2000                      -17.6   \n",
            "4               2.3              2000                      -18.6   \n",
            "\n",
            "   Solar Radiation (MJ/m2)  Rainfall(mm)  ...  Seasons     Holiday  \\\n",
            "0                      0.0           0.0  ...   Winter  No Holiday   \n",
            "1                      0.0           0.0  ...   Winter  No Holiday   \n",
            "2                      0.0           0.0  ...   Winter  No Holiday   \n",
            "3                      0.0           0.0  ...   Winter  No Holiday   \n",
            "4                      0.0           0.0  ...   Winter  No Holiday   \n",
            "\n",
            "  Functioning Day Month  Day  Weekday  Is_Weekend  Hour_Group Has_Rain  \\\n",
            "0             Yes    12    1        4           0       Night        0   \n",
            "1             Yes    12    1        4           0       Night        0   \n",
            "2             Yes    12    1        4           0       Night        0   \n",
            "3             Yes    12    1        4           0       Night        0   \n",
            "4             Yes    12    1        4           0       Night        0   \n",
            "\n",
            "   Has_Snow  \n",
            "0         0  \n",
            "1         0  \n",
            "2         0  \n",
            "3         0  \n",
            "4         0  \n",
            "\n",
            "[5 rows x 21 columns]\n"
          ]
        }
      ]
    },
    {
      "cell_type": "markdown",
      "source": [
        "**Step 4:** Categorical Features Identification (for CatBoost)"
      ],
      "metadata": {
        "id": "alN2fS180eHd"
      }
    },
    {
      "cell_type": "code",
      "source": [
        "# List of categorical features (based on original + engineered columns)\n",
        "cat_features = [\n",
        "    'Seasons',\n",
        "    'Holiday',\n",
        "    'Functioning Day',\n",
        "    'Hour_Group',\n",
        "    'Month',\n",
        "    'Weekday',\n",
        "    'Is_Weekend',\n",
        "    'Has_Rain',\n",
        "    'Has_Snow'\n",
        "]\n"
      ],
      "metadata": {
        "id": "49d9claq0d2e"
      },
      "execution_count": null,
      "outputs": []
    },
    {
      "cell_type": "markdown",
      "source": [
        "**Step 5:** Train-Test Split"
      ],
      "metadata": {
        "id": "LLtATQUb1OIl"
      }
    },
    {
      "cell_type": "code",
      "source": [
        "from sklearn.model_selection import train_test_split\n",
        "\n",
        "# 🎯 Step 1: Define target and features\n",
        "target = 'Rented Bike Count'\n",
        "\n",
        "# Drop columns that shouldn't be used as input features\n",
        "drop_cols = ['Date', 'Rented Bike Count']  # 'Date' is now used via derived columns\n",
        "X = df.drop(columns=drop_cols)\n",
        "y = df[target]\n",
        "\n",
        "# 🎯 Step 2: Split the data (80% train, 20% test)\n",
        "X_train, X_test, y_train, y_test = train_test_split(\n",
        "    X, y, test_size=0.2, random_state=42\n",
        ")\n",
        "\n",
        "# Check shape\n",
        "print(\"Train shape:\", X_train.shape)\n",
        "print(\"Test shape:\", X_test.shape)\n"
      ],
      "metadata": {
        "colab": {
          "base_uri": "https://localhost:8080/"
        },
        "id": "-WOmH-CT1Ek3",
        "outputId": "bafe2cd6-0024-47c8-d05c-e27be40a4bf2"
      },
      "execution_count": null,
      "outputs": [
        {
          "output_type": "stream",
          "name": "stdout",
          "text": [
            "Train shape: (7008, 19)\n",
            "Test shape: (1752, 19)\n"
          ]
        }
      ]
    },
    {
      "cell_type": "markdown",
      "source": [
        "**Step 6:** CatBoost Pool Creation & Model Training"
      ],
      "metadata": {
        "id": "pnbmnqiC1vmd"
      }
    },
    {
      "cell_type": "code",
      "source": [
        "!pip install catboost\n",
        "from catboost import CatBoostRegressor, Pool\n"
      ],
      "metadata": {
        "colab": {
          "base_uri": "https://localhost:8080/"
        },
        "id": "24uwATs42-FW",
        "outputId": "1bee2ab5-e7f2-40db-f4c6-f8a4d68e4653"
      },
      "execution_count": null,
      "outputs": [
        {
          "output_type": "stream",
          "name": "stdout",
          "text": [
            "Requirement already satisfied: catboost in /usr/local/lib/python3.11/dist-packages (1.2.8)\n",
            "Requirement already satisfied: graphviz in /usr/local/lib/python3.11/dist-packages (from catboost) (0.21)\n",
            "Requirement already satisfied: matplotlib in /usr/local/lib/python3.11/dist-packages (from catboost) (3.10.0)\n",
            "Requirement already satisfied: numpy<3.0,>=1.16.0 in /usr/local/lib/python3.11/dist-packages (from catboost) (2.0.2)\n",
            "Requirement already satisfied: pandas>=0.24 in /usr/local/lib/python3.11/dist-packages (from catboost) (2.2.2)\n",
            "Requirement already satisfied: scipy in /usr/local/lib/python3.11/dist-packages (from catboost) (1.16.0)\n",
            "Requirement already satisfied: plotly in /usr/local/lib/python3.11/dist-packages (from catboost) (5.24.1)\n",
            "Requirement already satisfied: six in /usr/local/lib/python3.11/dist-packages (from catboost) (1.17.0)\n",
            "Requirement already satisfied: python-dateutil>=2.8.2 in /usr/local/lib/python3.11/dist-packages (from pandas>=0.24->catboost) (2.9.0.post0)\n",
            "Requirement already satisfied: pytz>=2020.1 in /usr/local/lib/python3.11/dist-packages (from pandas>=0.24->catboost) (2025.2)\n",
            "Requirement already satisfied: tzdata>=2022.7 in /usr/local/lib/python3.11/dist-packages (from pandas>=0.24->catboost) (2025.2)\n",
            "Requirement already satisfied: contourpy>=1.0.1 in /usr/local/lib/python3.11/dist-packages (from matplotlib->catboost) (1.3.2)\n",
            "Requirement already satisfied: cycler>=0.10 in /usr/local/lib/python3.11/dist-packages (from matplotlib->catboost) (0.12.1)\n",
            "Requirement already satisfied: fonttools>=4.22.0 in /usr/local/lib/python3.11/dist-packages (from matplotlib->catboost) (4.59.0)\n",
            "Requirement already satisfied: kiwisolver>=1.3.1 in /usr/local/lib/python3.11/dist-packages (from matplotlib->catboost) (1.4.8)\n",
            "Requirement already satisfied: packaging>=20.0 in /usr/local/lib/python3.11/dist-packages (from matplotlib->catboost) (25.0)\n",
            "Requirement already satisfied: pillow>=8 in /usr/local/lib/python3.11/dist-packages (from matplotlib->catboost) (11.3.0)\n",
            "Requirement already satisfied: pyparsing>=2.3.1 in /usr/local/lib/python3.11/dist-packages (from matplotlib->catboost) (3.2.3)\n",
            "Requirement already satisfied: tenacity>=6.2.0 in /usr/local/lib/python3.11/dist-packages (from plotly->catboost) (8.5.0)\n"
          ]
        }
      ]
    },
    {
      "cell_type": "code",
      "source": [
        "# ✅ Import\n",
        "from catboost import CatBoostRegressor, Pool\n",
        "\n",
        "# ✅ Define categorical features (column names)\n",
        "cat_features = ['Seasons', 'Holiday', 'Functioning Day', 'Month', 'Day', 'Weekday', 'Is_Weekend', 'Hour_Group', 'Has_Rain', 'Has_Snow']\n",
        "\n",
        "\n",
        "# ✅ Create Pool objects (optional but recommended for large datasets)\n",
        "train_pool = Pool(data=X_train, label=y_train, cat_features=cat_features)\n",
        "test_pool = Pool(data=X_test, label=y_test, cat_features=cat_features)\n",
        "\n",
        "# ✅ Initialize the CatBoost Regressor\n",
        "model_cb = CatBoostRegressor(\n",
        "    iterations=500,\n",
        "    learning_rate=0.1,\n",
        "    depth=6,\n",
        "    loss_function='RMSE',\n",
        "    eval_metric='RMSE',\n",
        "    cat_features=cat_features,   # Optional here if using Pool\n",
        "    verbose=100,\n",
        "    random_seed=42\n",
        ")\n",
        "\n",
        "model_cb.fit(train_pool, eval_set=test_pool)\n",
        "\n"
      ],
      "metadata": {
        "colab": {
          "base_uri": "https://localhost:8080/"
        },
        "id": "EjGuXMsB1u6y",
        "outputId": "2a6f9d3c-b280-4c93-c59f-5049c364ebdf"
      },
      "execution_count": null,
      "outputs": [
        {
          "output_type": "stream",
          "name": "stdout",
          "text": [
            "0:\tlearn: 602.7718094\ttest: 604.6251301\tbest: 604.6251301 (0)\ttotal: 61.5ms\tremaining: 30.7s\n",
            "100:\tlearn: 178.8155676\ttest: 190.2192063\tbest: 190.2192063 (100)\ttotal: 2.24s\tremaining: 8.84s\n",
            "200:\tlearn: 152.1120957\ttest: 171.2368744\tbest: 171.2368744 (200)\ttotal: 3.4s\tremaining: 5.07s\n",
            "300:\tlearn: 135.0812854\ttest: 162.6862867\tbest: 162.6862867 (300)\ttotal: 4.55s\tremaining: 3.01s\n",
            "400:\tlearn: 124.3255666\ttest: 158.4026666\tbest: 158.4026666 (400)\ttotal: 5.72s\tremaining: 1.41s\n",
            "499:\tlearn: 115.7251230\ttest: 154.8484663\tbest: 154.8374195 (495)\ttotal: 8.17s\tremaining: 0us\n",
            "\n",
            "bestTest = 154.8374195\n",
            "bestIteration = 495\n",
            "\n",
            "Shrink model to first 496 iterations.\n"
          ]
        },
        {
          "output_type": "execute_result",
          "data": {
            "text/plain": [
              "<catboost.core.CatBoostRegressor at 0x7e42b9f54990>"
            ]
          },
          "metadata": {},
          "execution_count": 23
        }
      ]
    },
    {
      "cell_type": "code",
      "source": [
        "from sklearn.metrics import mean_absolute_error, mean_squared_error, r2_score\n",
        "import numpy as np\n",
        "\n",
        "# 🔍 Predict on test set\n",
        "y_pred = model_cb.predict(X_test)\n",
        "\n",
        "# 📏 Evaluation Metrics\n",
        "mae = mean_absolute_error(y_test, y_pred)\n",
        "mse = mean_squared_error(y_test, y_pred)\n",
        "rmse = np.sqrt(mse)\n",
        "r2 = r2_score(y_test, y_pred)\n",
        "\n",
        "# 📢 Print results\n",
        "print(f\"✅ R² Score: {r2:.4f}\")\n",
        "print(f\"📉 MAE: {mae:.2f}\")\n",
        "print(f\"📉 MSE: {mse:.2f}\")\n",
        "print(f\"📉 RMSE: {rmse:.2f}\")\n"
      ],
      "metadata": {
        "colab": {
          "base_uri": "https://localhost:8080/"
        },
        "id": "6cmT2JzR6lwo",
        "outputId": "6d6783f6-f9aa-42ef-cf5a-fa1c432a47e0"
      },
      "execution_count": null,
      "outputs": [
        {
          "output_type": "stream",
          "name": "stdout",
          "text": [
            "✅ R² Score: 0.9425\n",
            "📉 MAE: 92.92\n",
            "📉 MSE: 23974.63\n",
            "📉 RMSE: 154.84\n"
          ]
        }
      ]
    },
    {
      "cell_type": "markdown",
      "source": [
        "The R² score was around 94%, which means the model is very accurate — it explains 94% of the changes in the bike rental numbers. That’s a strong performance.\n",
        "\n",
        "The MAE (Mean Absolute Error) was about 93 bikes, which means the model is usually off by around 93 bikes when it makes a prediction.\n",
        "\n",
        "The RMSE (Root Mean Squared Error) was about 155 bikes, which is another way of saying that the prediction is sometimes off by that much, but it gives more weight to bigger errors."
      ],
      "metadata": {
        "id": "11e3J9SY8Cx2"
      }
    },
    {
      "cell_type": "markdown",
      "source": [
        "**Step 8:** Feature Importance (CatBoost Model)"
      ],
      "metadata": {
        "id": "xGEwG5EU7H52"
      }
    },
    {
      "cell_type": "code",
      "source": [
        "import matplotlib.pyplot as plt\n",
        "\n",
        "# 🎯 Feature Importance nikalna\n",
        "feature_importance = model_cb.get_feature_importance()\n",
        "feature_names = X_train.columns\n",
        "\n",
        "# 📊 Plot karna\n",
        "plt.figure(figsize=(12, 6))\n",
        "plt.barh(feature_names, feature_importance)\n",
        "plt.xlabel(\"Importance Score\")\n",
        "plt.title(\"Feature Importance (CatBoost)\")\n",
        "plt.gca().invert_yaxis()  # Important features upar dikhe\n",
        "plt.tight_layout()\n",
        "plt.show()\n"
      ],
      "metadata": {
        "colab": {
          "base_uri": "https://localhost:8080/",
          "height": 607
        },
        "id": "-BIWUsK87KIG",
        "outputId": "0235455f-65e6-454e-a910-fd6cd7ce702f"
      },
      "execution_count": null,
      "outputs": [
        {
          "output_type": "display_data",
          "data": {
            "text/plain": [
              "<Figure size 1200x600 with 1 Axes>"
            ],
            "image/png": "[encoded data removed]"
          },
          "metadata": {}
        }
      ]
    },
    {
      "cell_type": "markdown",
      "source": [
        "**Step 10:** Business Conclusion"
      ],
      "metadata": {
        "id": "F-IayhJv-Dam"
      }
    },
    {
      "cell_type": "markdown",
      "source": [
        "Key Insights:\n",
        "\n",
        "Hour of the day is the most important factor\n",
        "→ Most people rent bikes during morning office hours and evening time. So, more bikes should be available during these times.\n",
        "\n",
        "Temperature affects rentals\n",
        "→ On pleasant days, people prefer renting bikes. In extreme weather (too hot, rainy, or snowy), demand drops.\n",
        "\n",
        "Weekends and Holidays matter\n",
        "→ Fewer rentals happen on holidays or weekends, probably because there’s no office or regular routine.\n",
        "\n",
        "Weather conditions like humidity, rainfall, and snow also play a small role.\n",
        "\n"
      ],
      "metadata": {
        "id": "x1rR0KnK9_Jz"
      }
    },
    {
      "cell_type": "markdown",
      "source": [
        "**How this helps the business:**\n",
        "\n",
        "Companies can predict demand and optimize bike availability.\n",
        "\n",
        "Authorities can manage traffic better by promoting bike rentals in peak hours.\n",
        "\n",
        "Helps in planning infrastructure – like building more bike stands in busy areas.\n",
        "\n"
      ],
      "metadata": {
        "id": "AEHwBe3U-Lfd"
      }
    }
  ]
}